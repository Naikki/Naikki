{
  "nbformat": 4,
  "nbformat_minor": 0,
  "metadata": {
    "colab": {
      "provenance": [],
      "authorship_tag": "ABX9TyPzelD9gWMSUMkLSnSKiBrI",
      "include_colab_link": true
    },
    "kernelspec": {
      "name": "python3",
      "display_name": "Python 3"
    },
    "language_info": {
      "name": "python"
    }
  },
  "cells": [
    {
      "cell_type": "markdown",
      "metadata": {
        "id": "view-in-github",
        "colab_type": "text"
      },
      "source": [
        "<a href=\"https://colab.research.google.com/github/Naikki/Naikki/blob/main/Atividade_m%C3%B3dulo_13.ipynb\" target=\"_parent\"><img src=\"https://colab.research.google.com/assets/colab-badge.svg\" alt=\"Open In Colab\"/></a>"
      ]
    },
    {
      "cell_type": "code",
      "execution_count": null,
      "metadata": {
        "id": "vLhvdjMOnev7"
      },
      "outputs": [],
      "source": [
        "pip install pandas"
      ]
    },
    {
      "cell_type": "code",
      "metadata": {
        "id": "73cfd33e",
        "colab": {
          "base_uri": "https://localhost:8080/",
          "height": 71
        },
        "outputId": "7e735b92-18c3-4fc7-f7c0-1f54e8cf3515"
      },
      "source": [
        "from google.colab import files\n",
        "uploaded = files.upload()\n",
        "\n",
        "import pandas as pd\n",
        "\n",
        "caminho = 'Profissao Cientista de Dados M13 Projeto.jpynb'  # Ajuste para o nome do arquivo"
      ],
      "execution_count": null,
      "outputs": [
        {
          "output_type": "display_data",
          "data": {
            "text/plain": [
              "<IPython.core.display.HTML object>"
            ],
            "text/html": [
              "\n",
              "     <input type=\"file\" id=\"files-04e5c007-68c1-4395-b692-78a3f4d50549\" name=\"files[]\" multiple disabled\n",
              "        style=\"border:none\" />\n",
              "     <output id=\"result-04e5c007-68c1-4395-b692-78a3f4d50549\">\n",
              "      Upload widget is only available when the cell has been executed in the\n",
              "      current browser session. Please rerun this cell to enable.\n",
              "      </output>\n",
              "      <script>// Copyright 2017 Google LLC\n",
              "//\n",
              "// Licensed under the Apache License, Version 2.0 (the \"License\");\n",
              "// you may not use this file except in compliance with the License.\n",
              "// You may obtain a copy of the License at\n",
              "//\n",
              "//      http://www.apache.org/licenses/LICENSE-2.0\n",
              "//\n",
              "// Unless required by applicable law or agreed to in writing, software\n",
              "// distributed under the License is distributed on an \"AS IS\" BASIS,\n",
              "// WITHOUT WARRANTIES OR CONDITIONS OF ANY KIND, either express or implied.\n",
              "// See the License for the specific language governing permissions and\n",
              "// limitations under the License.\n",
              "\n",
              "/**\n",
              " * @fileoverview Helpers for google.colab Python module.\n",
              " */\n",
              "(function(scope) {\n",
              "function span(text, styleAttributes = {}) {\n",
              "  const element = document.createElement('span');\n",
              "  element.textContent = text;\n",
              "  for (const key of Object.keys(styleAttributes)) {\n",
              "    element.style[key] = styleAttributes[key];\n",
              "  }\n",
              "  return element;\n",
              "}\n",
              "\n",
              "// Max number of bytes which will be uploaded at a time.\n",
              "const MAX_PAYLOAD_SIZE = 100 * 1024;\n",
              "\n",
              "function _uploadFiles(inputId, outputId) {\n",
              "  const steps = uploadFilesStep(inputId, outputId);\n",
              "  const outputElement = document.getElementById(outputId);\n",
              "  // Cache steps on the outputElement to make it available for the next call\n",
              "  // to uploadFilesContinue from Python.\n",
              "  outputElement.steps = steps;\n",
              "\n",
              "  return _uploadFilesContinue(outputId);\n",
              "}\n",
              "\n",
              "// This is roughly an async generator (not supported in the browser yet),\n",
              "// where there are multiple asynchronous steps and the Python side is going\n",
              "// to poll for completion of each step.\n",
              "// This uses a Promise to block the python side on completion of each step,\n",
              "// then passes the result of the previous step as the input to the next step.\n",
              "function _uploadFilesContinue(outputId) {\n",
              "  const outputElement = document.getElementById(outputId);\n",
              "  const steps = outputElement.steps;\n",
              "\n",
              "  const next = steps.next(outputElement.lastPromiseValue);\n",
              "  return Promise.resolve(next.value.promise).then((value) => {\n",
              "    // Cache the last promise value to make it available to the next\n",
              "    // step of the generator.\n",
              "    outputElement.lastPromiseValue = value;\n",
              "    return next.value.response;\n",
              "  });\n",
              "}\n",
              "\n",
              "/**\n",
              " * Generator function which is called between each async step of the upload\n",
              " * process.\n",
              " * @param {string} inputId Element ID of the input file picker element.\n",
              " * @param {string} outputId Element ID of the output display.\n",
              " * @return {!Iterable<!Object>} Iterable of next steps.\n",
              " */\n",
              "function* uploadFilesStep(inputId, outputId) {\n",
              "  const inputElement = document.getElementById(inputId);\n",
              "  inputElement.disabled = false;\n",
              "\n",
              "  const outputElement = document.getElementById(outputId);\n",
              "  outputElement.innerHTML = '';\n",
              "\n",
              "  const pickedPromise = new Promise((resolve) => {\n",
              "    inputElement.addEventListener('change', (e) => {\n",
              "      resolve(e.target.files);\n",
              "    });\n",
              "  });\n",
              "\n",
              "  const cancel = document.createElement('button');\n",
              "  inputElement.parentElement.appendChild(cancel);\n",
              "  cancel.textContent = 'Cancel upload';\n",
              "  const cancelPromise = new Promise((resolve) => {\n",
              "    cancel.onclick = () => {\n",
              "      resolve(null);\n",
              "    };\n",
              "  });\n",
              "\n",
              "  // Wait for the user to pick the files.\n",
              "  const files = yield {\n",
              "    promise: Promise.race([pickedPromise, cancelPromise]),\n",
              "    response: {\n",
              "      action: 'starting',\n",
              "    }\n",
              "  };\n",
              "\n",
              "  cancel.remove();\n",
              "\n",
              "  // Disable the input element since further picks are not allowed.\n",
              "  inputElement.disabled = true;\n",
              "\n",
              "  if (!files) {\n",
              "    return {\n",
              "      response: {\n",
              "        action: 'complete',\n",
              "      }\n",
              "    };\n",
              "  }\n",
              "\n",
              "  for (const file of files) {\n",
              "    const li = document.createElement('li');\n",
              "    li.append(span(file.name, {fontWeight: 'bold'}));\n",
              "    li.append(span(\n",
              "        `(${file.type || 'n/a'}) - ${file.size} bytes, ` +\n",
              "        `last modified: ${\n",
              "            file.lastModifiedDate ? file.lastModifiedDate.toLocaleDateString() :\n",
              "                                    'n/a'} - `));\n",
              "    const percent = span('0% done');\n",
              "    li.appendChild(percent);\n",
              "\n",
              "    outputElement.appendChild(li);\n",
              "\n",
              "    const fileDataPromise = new Promise((resolve) => {\n",
              "      const reader = new FileReader();\n",
              "      reader.onload = (e) => {\n",
              "        resolve(e.target.result);\n",
              "      };\n",
              "      reader.readAsArrayBuffer(file);\n",
              "    });\n",
              "    // Wait for the data to be ready.\n",
              "    let fileData = yield {\n",
              "      promise: fileDataPromise,\n",
              "      response: {\n",
              "        action: 'continue',\n",
              "      }\n",
              "    };\n",
              "\n",
              "    // Use a chunked sending to avoid message size limits. See b/62115660.\n",
              "    let position = 0;\n",
              "    do {\n",
              "      const length = Math.min(fileData.byteLength - position, MAX_PAYLOAD_SIZE);\n",
              "      const chunk = new Uint8Array(fileData, position, length);\n",
              "      position += length;\n",
              "\n",
              "      const base64 = btoa(String.fromCharCode.apply(null, chunk));\n",
              "      yield {\n",
              "        response: {\n",
              "          action: 'append',\n",
              "          file: file.name,\n",
              "          data: base64,\n",
              "        },\n",
              "      };\n",
              "\n",
              "      let percentDone = fileData.byteLength === 0 ?\n",
              "          100 :\n",
              "          Math.round((position / fileData.byteLength) * 100);\n",
              "      percent.textContent = `${percentDone}% done`;\n",
              "\n",
              "    } while (position < fileData.byteLength);\n",
              "  }\n",
              "\n",
              "  // All done.\n",
              "  yield {\n",
              "    response: {\n",
              "      action: 'complete',\n",
              "    }\n",
              "  };\n",
              "}\n",
              "\n",
              "scope.google = scope.google || {};\n",
              "scope.google.colab = scope.google.colab || {};\n",
              "scope.google.colab._files = {\n",
              "  _uploadFiles,\n",
              "  _uploadFilesContinue,\n",
              "};\n",
              "})(self);\n",
              "</script> "
            ]
          },
          "metadata": {}
        },
        {
          "output_type": "stream",
          "name": "stdout",
          "text": [
            "Saving Profissao Cientista de Dados M13 Projeto.ipynb to Profissao Cientista de Dados M13 Projeto.ipynb\n"
          ]
        }
      ]
    },
    {
      "cell_type": "code",
      "source": [
        "from google.colab import files\n",
        "uploaded = files.upload()\n",
        "\n",
        "import pandas as pd\n",
        "\n",
        "caminho = 'MODULO7_PROJETOFINAL_BASE_SUPERMERCADO - MODULO7_PROJETOFINAL_BASE_SUPERMERCADO (1).csv'  # Ajuste para o nome do arquivo"
      ],
      "metadata": {
        "id": "D5e4avwQrDbs"
      },
      "execution_count": null,
      "outputs": []
    },
    {
      "cell_type": "markdown",
      "source": [
        "# 1. Leitura dos arquivos e o Pré-processamento dos seguintes dados"
      ],
      "metadata": {
        "id": "j2eiYxtGp3pr"
      }
    },
    {
      "cell_type": "code",
      "source": [
        "import pandas as pd\n",
        "import numpy as np\n",
        "import matplotlib.pyplot as plt\n",
        "import seaborn as sns\n",
        "\n",
        "# Carregar os dados\n",
        "df = pd.read_csv('Profissao Cientista de Dados M13 Projeto.jpynb')\n",
        "\n",
        "# Verificar estrutura\n",
        "print(df.info())\n",
        "print(df.head())\n",
        "\n",
        "# Limpeza básica\n",
        "df['Preco_Normal'] = df['Preco_Normal'].replace(0, np.nan)\n",
        "df.dropna(subset=['Preco_Normal'], inplace=True)\n",
        "\n",
        "# Criar coluna de preço por unidade (assumindo que 'Pack 12 un' significa 12 unidades)\n",
        "def extract_units(title):\n",
        "    if 'Pack' in title and 'un' in title:\n",
        "        try:\n",
        "            return int(title.split('Pack')[1].split('un')[0].strip())\n",
        "        except:\n",
        "            return 1\n",
        "    return 1\n",
        "\n",
        "df['Unidades'] = df['title'].apply(extract_units)\n",
        "df['Preco_por_Unidade'] = df['Preco_Normal'] / df['Unidades']"
      ],
      "metadata": {
        "id": "EvgXIDmXrrQx"
      },
      "execution_count": null,
      "outputs": []
    },
    {
      "cell_type": "markdown",
      "source": [
        "# 2. Breve análise estatística"
      ],
      "metadata": {
        "id": "ZXo_4r5yqMQe"
      }
    },
    {
      "cell_type": "code",
      "source": [
        "# Distribuição de preços: Identificação da faixa de preço predominante\n",
        "## Estatísticas descritivas\n",
        "print(\"\\nEstatísticas descritivas dos preços:\")\n",
        "print(df['Preco_Normal'].describe())\n",
        "\n",
        "### Por categoria especifica\n",
        "print(\"\\nEstatísticas por categoria:\")\n",
        "print(df.groupby('Categoria')['Preco_Normal'].describe())\n",
        "\n",
        "#### Os 10 produtos mais caros\n",
        "top10 = df.nlargest(10, 'Preco_Normal')[['title', 'Marca', 'Preco_Normal', 'Categoria']]\n",
        "print(\"\\nTop 10 produtos mais caros:\")\n",
        "print(top10)"
      ],
      "metadata": {
        "id": "G4lRj6PWqT24"
      },
      "execution_count": null,
      "outputs": []
    },
    {
      "cell_type": "markdown",
      "source": [
        "#  3. Visualização com Matplotlib/Seaborn"
      ],
      "metadata": {
        "id": "o2T1OUnGqv78"
      }
    },
    {
      "cell_type": "code",
      "source": [
        "plt.figure(figsize=(12, 6))\n",
        "sns.histplot(df['Preco_Normal'], bins=30, kde=True)\n",
        "plt.title('Distribuição de Preços dos Produtos')\n",
        "plt.xlabel('Preço Normal')\n",
        "plt.ylabel('Contagem')\n",
        "plt.grid(True)\n",
        "plt.close()"
      ],
      "metadata": {
        "id": "L3ctdVLjq258"
      },
      "execution_count": null,
      "outputs": []
    },
    {
      "cell_type": "markdown",
      "source": [
        "# - Agora os Preços por Categoria"
      ],
      "metadata": {
        "id": "tSrVIlFTrWZV"
      }
    },
    {
      "cell_type": "code",
      "source": [
        "# Comparação por categoria: Análise de quais categorias tem produtos mais caros\n",
        "plt.figure(figsize=(14, 8))\n",
        "sns.boxplot(x='Categoria', y='Preco_Normal', data=df)\n",
        "plt.title('Distribuição de Preços por Categoria')\n",
        "plt.xlabel('Categoria')\n",
        "plt.ylabel('Preço Normal')\n",
        "plt.xticks(rotation=45)\n",
        "plt.grid(True)\n",
        "plt.close()"
      ],
      "metadata": {
        "id": "QWHtYTBgrcPM"
      },
      "execution_count": null,
      "outputs": []
    },
    {
      "cell_type": "markdown",
      "source": [
        "# - Top 10 \"Produtos mais caros\""
      ],
      "metadata": {
        "id": "mupDo3X5rr8f"
      }
    },
    {
      "cell_type": "code",
      "source": [
        "# Produtos mais caros: Relatório dos itens com maior valor\n",
        "plt.figure(figsize=(12, 8))\n",
        "top10_sorted = top10.sort_values('Preco_Normal', ascending=True)\n",
        "plt.barh(top10_sorted['title'], top10_sorted['Preco_Normal'],\n",
        "         color=sns.color_palette('viridis', len(top10)))\n",
        "plt.title('Top 10 Produtos Mais Caros')\n",
        "plt.xlabel('Preço Normal')\n",
        "plt.ylabel('Produto')\n",
        "plt.grid(axis='x')\n",
        "plt.tight_layout()\n",
        "plt.close()"
      ],
      "metadata": {
        "id": "ML875K1CrzXZ"
      },
      "execution_count": null,
      "outputs": []
    },
    {
      "cell_type": "markdown",
      "source": [
        "# - Relação entre Marcas e Categorias"
      ],
      "metadata": {
        "id": "TN7Ha68LsD1b"
      }
    },
    {
      "cell_type": "code",
      "source": [
        "plt.figure(figsize=(14, 10))\n",
        "marca_categoria = df.groupby(['Marca', 'Categoria']).size().unstack().fillna(0)\n",
        "sns.heatmap(marca_categoria, cmap='YlGnBu', annot=True, fmt='g', linewidths=.5)\n",
        "plt.title('Distribuição de Marcas por Categoria')\n",
        "plt.xlabel('Categoria')\n",
        "plt.ylabel('Marca')\n",
        "plt.xticks(rotation=45)\n",
        "plt.tight_layout()\n",
        "plt.close()"
      ],
      "metadata": {
        "id": "nhljGgItsLJy"
      },
      "execution_count": null,
      "outputs": []
    },
    {
      "cell_type": "markdown",
      "source": [
        "# - Preço por Unidade e por Categoria"
      ],
      "metadata": {
        "id": "DMtPgt1OsSNw"
      }
    },
    {
      "cell_type": "markdown",
      "source": [],
      "metadata": {
        "id": "Q_QL2yX1rK05"
      }
    },
    {
      "cell_type": "code",
      "source": [
        "plt.figure(figsize=(14, 8))\n",
        "sns.boxplot(x='Categoria', y='Preco_por_Unidade', data=df[df['Unidades'] > 1])\n",
        "plt.title('Preço por Unidade (apenas produtos em pack)')\n",
        "plt.xlabel('Categoria')\n",
        "plt.ylabel('Preço por Unidade')\n",
        "plt.xticks(rotation=45)\n",
        "plt.grid(True)\n",
        "plt.close()"
      ],
      "metadata": {
        "id": "Yj6haf3ysbH1"
      },
      "execution_count": null,
      "outputs": []
    },
    {
      "cell_type": "markdown",
      "source": [
        "#  4. Análise de Marcas"
      ],
      "metadata": {
        "id": "CmK5bxHKs5Q7"
      }
    },
    {
      "cell_type": "code",
      "source": [
        "# Top marcas por número de produtos\n",
        "## Análise de Marcas: Descreve quais marcas dominaram cada categoria\n",
        "top_marcas_count = df['Marca'].value_counts().head(10)\n",
        "\n",
        "plt.figure(figsize=(12, 6))\n",
        "top_marcas_count.plot(kind='bar', color=sns.color_palette('muted'))\n",
        "plt.title('Top 10 Marcas por Número de Produtos')\n",
        "plt.xlabel('Marca')\n",
        "plt.ylabel('Número de Produtos')\n",
        "plt.xticks(rotation=45)\n",
        "plt.grid(axis='y')\n",
        "plt.savefig('top_marcas_count.png')\n",
        "plt.close()\n",
        "\n",
        "# Top marcas por preço médio\n",
        "top_marcas_price = df.groupby('Marca')['Preco_Normal'].mean().sort_values(ascending=False).head(10)\n",
        "\n",
        "plt.figure(figsize=(12, 6))\n",
        "top_marcas_price.plot(kind='bar', color=sns.color_palette('rocket'))\n",
        "plt.title('Top 10 Marcas por Preço Médio')\n",
        "plt.xlabel('Marca')\n",
        "plt.ylabel('Preço Médio')\n",
        "plt.xticks(rotation=45)\n",
        "plt.grid(axis='y')\n",
        "plt.close()"
      ],
      "metadata": {
        "id": "FzNGCLoNtCv6"
      },
      "execution_count": null,
      "outputs": []
    },
    {
      "cell_type": "markdown",
      "source": [],
      "metadata": {
        "id": "R54l5Z2tt7J9"
      }
    }
  ]
}